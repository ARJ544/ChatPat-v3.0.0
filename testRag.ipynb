{
 "cells": [
  {
   "cell_type": "markdown",
   "id": "df7b702f",
   "metadata": {},
   "source": [
    "Important Imports"
   ]
  },
  {
   "cell_type": "code",
   "execution_count": null,
   "id": "efbacd9f",
   "metadata": {},
   "outputs": [],
   "source": [
    "from google import genai\n",
    "from google.genai.errors import ClientError\n",
    "from google.genai import types\n",
    "import os\n",
    "from dotenv import load_dotenv\n",
    "from google.genai.types import EmbedContentConfig\n",
    "from pypdf import PdfReader\n",
    "from langchain_text_splitters import RecursiveCharacterTextSplitter\n",
    "import chromadb"
   ]
  },
  {
   "cell_type": "markdown",
   "id": "111fe3f4",
   "metadata": {},
   "source": [
    "Load apiKey from .env file"
   ]
  },
  {
   "cell_type": "code",
   "execution_count": null,
   "id": "6598b88a",
   "metadata": {},
   "outputs": [],
   "source": [
    "load_dotenv()\n",
    "api_key = os.getenv(\"GEMINI_API_KEY\")\n",
    "client = genai.Client(api_key=api_key)"
   ]
  },
  {
   "cell_type": "markdown",
   "id": "79a1a606",
   "metadata": {},
   "source": [
    "Extract Text from PDF Function"
   ]
  },
  {
   "cell_type": "code",
   "execution_count": null,
   "id": "d138015f",
   "metadata": {},
   "outputs": [],
   "source": [
    "def extract_text_from_pdf(pdf_path):\n",
    "    try:\n",
    "        reader = PdfReader(pdf_path)\n",
    "        full_text = \"\"\n",
    "\n",
    "        if len(reader.pages) == 0:\n",
    "            print(\"PDF has no pages\")\n",
    "            return \"\"\n",
    "\n",
    "        for page_num in range(len(reader.pages)):\n",
    "            page = reader.pages[page_num]\n",
    "            text = page.extract_text()\n",
    "            if text:\n",
    "                full_text += text\n",
    "\n",
    "        print(f\"Number of pages in PDF: {len(reader.pages)}\")\n",
    "\n",
    "        return full_text\n",
    "\n",
    "    except Exception as e:\n",
    "        return f\"An error occurred: {e}\"\n"
   ]
  },
  {
   "cell_type": "markdown",
   "id": "c561ddda",
   "metadata": {},
   "source": [
    "Use extract_text function to extract from pdf"
   ]
  },
  {
   "cell_type": "code",
   "execution_count": null,
   "id": "7f8b5c79",
   "metadata": {},
   "outputs": [],
   "source": [
    "file_to_extract = \"./chemistry9.pdf\"\n",
    "extracted_txt_content = extract_text_from_pdf(file_to_extract)\n",
    "\n",
    "# Uncomment this line to print extracted text\n",
    "if \"An error occurred\" not in extracted_txt_content:\n",
    "    print(\"Extracted Text:\")\n",
    "    print(extracted_txt_content)\n",
    "else:\n",
    "    print(extracted_txt_content)"
   ]
  },
  {
   "cell_type": "markdown",
   "id": "6fc761aa",
   "metadata": {},
   "source": [
    "Extract the pdf name to use as metadata"
   ]
  },
  {
   "cell_type": "code",
   "execution_count": null,
   "id": "61ae9f80",
   "metadata": {},
   "outputs": [],
   "source": [
    "def get_fileName(file):\n",
    "    return file[2:len(file)]\n",
    "\n",
    "file_Name = get_fileName(file_to_extract)\n",
    "print(file_Name)"
   ]
  },
  {
   "cell_type": "markdown",
   "id": "672a1fcf",
   "metadata": {},
   "source": [
    "Split the extracted text into Chunks using LangChain"
   ]
  },
  {
   "cell_type": "code",
   "execution_count": null,
   "id": "f75dcc68",
   "metadata": {},
   "outputs": [],
   "source": [
    "def chunk_text(text, chunk_size=300, chunk_overlap=50):\n",
    "    splitter = RecursiveCharacterTextSplitter(\n",
    "        chunk_size=chunk_size,      \n",
    "        chunk_overlap=chunk_overlap,\n",
    "        add_start_index=True,\n",
    "        length_function=len,\n",
    "        separators=[\"\\n\\n\", \"\\n\", \" \", \"\"]\n",
    "    )\n",
    "    chunks = splitter.split_text(text)\n",
    "    return chunks\n",
    "txt_after_chunk_array = chunk_text(extracted_txt_content)\n",
    "\n",
    "# Uncomment this line to print output of Chunked Text\n",
    "print(len(txt_after_chunk_array))\n",
    "print(txt_after_chunk_array)"
   ]
  },
  {
   "cell_type": "markdown",
   "id": "3d55be74",
   "metadata": {},
   "source": [
    "Embedding the Chunks With Gemini-Embedding-Model"
   ]
  },
  {
   "cell_type": "code",
   "execution_count": null,
   "id": "2a5b9c9c",
   "metadata": {},
   "outputs": [],
   "source": [
    "embedding_dim = 768 # increase the dimension to increase the quality\n",
    "\n",
    "embeddings = []\n",
    "for chunk in txt_after_chunk_array:\n",
    "    response = client.models.embed_content( \n",
    "        model=\"gemini-embedding-001\",\n",
    "        contents=[types.Part.from_text(text=chunk)],\n",
    "        config=types.EmbedContentConfig(\n",
    "            task_type=\"RETRIEVAL_DOCUMENT\",\n",
    "            output_dimensionality=embedding_dim\n",
    "        ),\n",
    "    )\n",
    "    embeddings.append(response)\n",
    "\n",
    "# processed_embeddings contains the floating number(VECTORS)\n",
    "processed_embeddings = [\n",
    "    e.embeddings[0].values for e in embeddings\n",
    "]\n",
    "print(processed_embeddings)"
   ]
  },
  {
   "cell_type": "markdown",
   "id": "221d9b3f",
   "metadata": {},
   "source": [
    "Create ChromaDB Collection"
   ]
  },
  {
   "cell_type": "code",
   "execution_count": null,
   "id": "8c960302",
   "metadata": {},
   "outputs": [],
   "source": [
    "chroma_client = chromadb.PersistentClient(path=\"./chroma_data\")\n",
    "\n",
    "collection = chroma_client.get_or_create_collection(\n",
    "    name=\"TestTryCollection\",\n",
    "    metadata={\"source\": \"ARJ's\"}\n",
    ")"
   ]
  },
  {
   "cell_type": "markdown",
   "id": "15323007",
   "metadata": {},
   "source": [
    "Insert data into ChromaDB"
   ]
  },
  {
   "cell_type": "code",
   "execution_count": null,
   "id": "5ae8cd18",
   "metadata": {},
   "outputs": [],
   "source": [
    "ids = [f\"{file_Name}_chunk_{i}\" for i in range(len(txt_after_chunk_array))]\n",
    "print(len(txt_after_chunk_array))\n",
    "\n",
    "collection.upsert(\n",
    "    ids=ids,\n",
    "    documents=txt_after_chunk_array,\n",
    "    embeddings=processed_embeddings,\n",
    "    metadatas=[{\"chunk_index\": i, \"Source\": file_Name} for i in range(len(txt_after_chunk_array))]\n",
    ")"
   ]
  },
  {
   "cell_type": "markdown",
   "id": "4c320aca",
   "metadata": {},
   "source": [
    "Embed User query/promt with Gemini"
   ]
  },
  {
   "cell_type": "code",
   "execution_count": 51,
   "id": "d5293137",
   "metadata": {},
   "outputs": [
    {
     "name": "stdout",
     "output_type": "stream",
     "text": [
      "[0.023519054, -0.031091241, 0.025897365, -0.037018612, 0.009995096, 0.032825585, 0.008069212, -0.005838712, -0.0059679532, 0.02835334, -0.00038137767, -0.0033704282, 0.011216595, 0.029334174, 0.11914424, 0.0021371306, -0.008214597, -0.0048142406, -0.008940175, -0.0062225824, -0.021553395, 0.03695683, 0.015918693, -0.010109461, 0.011459379, -0.0006371037, 0.0058113756, 0.005330755, 0.030027572, 0.018309193, 0.01453936, 0.031152505, -0.01238154, 0.013443175, -0.007067455, 0.029167011, 0.005421869, -0.021258567, -0.00019548161, -0.0040478073, -0.0146163795, 0.028436022, 0.020476785, -0.016991777, 0.0034780935, 0.0064536934, 0.004283533, -0.0028745143, 0.0020937559, 0.039495956, -0.012784641, -0.0018386074, -0.006300956, -0.1580355, 0.002254757, -0.022800615, -0.014498369, -0.00029258567, -0.0050365734, -0.0026211329, -0.021258047, 0.03996928, -0.0317543, 0.004220885, 0.004137122, -0.010693188, 0.003623403, 0.0033731356, -0.02647372, -0.009576349, -0.0036600323, -0.01699987, -0.011132659, 0.013114129, -0.02969288, -0.04030085, 0.02251345, 0.004062274, 0.0053560934, -0.005521511, -0.0059867883, -0.0056226705, 0.0010082009, -0.013048437, -0.008644147, 0.011464895, -0.018710027, -0.008125897, -0.015815223, -0.01041902, 0.0090345405, -0.015269273, -0.00072309125, -0.0041426085, -0.0216729, -0.0019357877, 0.005611826, -0.003584619, 0.0033519063, 0.02759262, -0.006972496, -0.0036195451, -0.0026972909, -0.008303263, -0.0037919667, -0.031471923, -0.027276147, 0.010203699, 0.0068169623, 0.026177082, -0.0051311357, 0.010993293, 0.0017175374, 0.009230025, 0.015029719, -0.18062885, -0.009176976, -0.00989991, -0.023511896, -0.02444288, 0.005554699, 0.026584895, -0.018017696, 0.003037287, 0.0058149165, -0.0015854775, -0.011778916, 0.003738293, -0.02244888, 0.01650437, 0.0028412875, -0.01058967, -0.0076159295, -0.00080254854, -0.0017514942, 0.007012485, -0.019511776, -0.0016763161, 0.0077486946, -0.019106934, -0.0072670192, 0.04802333, -0.015620213, 0.0047118412, 0.00034471578, -0.0019408539, -0.009616061, 0.014964818, -0.019155545, -0.0010778556, -0.0030869874, -0.004818701, 0.006991489, -0.007406402, 0.010047029, -0.035287924, 0.0036045983, -0.0027173338, -0.0076805893, -0.01965442, -0.009887862, 0.011704672, -0.031964306, 0.016471816, 0.009441759, 0.008614876, 0.007016923, -0.0053012273, 0.0054426617, 0.024542779, -0.00048996793, 0.008277196, 0.0071020587, 0.01957382, 0.0011399843, -0.005376077, 0.032018792, 0.01634258, 0.03517884, -0.024837231, 0.005051788, -0.020028656, -0.049236603, 0.023776775, 0.009092908, 0.019374846, -0.018475411, 0.0031182822, 0.01110895, -0.021155048, 0.0087464955, -0.007635108, 0.00011146176, -0.034993242, 0.0016962131, 0.008779073, -0.03598554, -0.0071670576, -0.011128267, 0.0028601044, 0.03424007, 0.021427069, -0.014754152, 0.001316904, -0.006365952, 0.017638382, 0.018201314, -0.027295262, 0.006219278, 0.008958283, 0.0028069178, 0.00023167346, 0.01945653, 0.012319254, 0.042025335, -0.00537923, 0.008576416, -0.011087634, -0.026000638, -0.020942377, 0.006142322, -0.012893194, -0.021505596, -0.021437075, 0.010710886, -0.010606803, 0.0066711237, -0.051539637, 0.014354128, 0.011309765, 0.018377585, 0.03085113, -0.03198033, 0.01881658, 0.00216512, 0.0129476655, 0.006174411, 0.007890229, -0.0029223165, -0.027509011, -0.009016873, -0.019633869, 0.008288452, 0.020416316, 0.01854665, 0.00926218, 0.0038650343, 0.02057156, 0.03276437, 0.0031879677, -0.010657004, 0.008322658, -0.00010634412, -0.013608481, -0.02860538, 0.0032094545, -0.022903455, -0.008224199, -0.022126256, 0.020740755, -0.004050622, -0.01674895, -0.0027695827, -0.010812189, 0.013401299, 0.0034555856, 0.013891953, 0.025235519, -0.03241768, 0.009104188, 0.01919238, -0.011304185, 0.008321739, -0.013298424, -0.0055530816, 0.023081468, -0.11375595, 0.00011694947, 0.0070438366, -0.02701139, 0.020963758, 0.019483536, 0.015900252, -0.0015260692, -0.0071733217, -0.008359906, -0.010028984, 0.00860441, 0.005676245, 0.01588477, 0.019201802, -0.003436796, -0.0041692583, 0.007280098, -0.011297108, -0.010570823, 0.017525908, 0.0010314964, -0.035330735, -0.010888698, 0.010015342, -0.00436234, 0.00743267, 0.018023549, 0.014880741, -0.020202938, 0.011848688, 0.026217798, 0.0014399776, 0.0006395323, -0.019682702, 0.005849289, -0.020979524, -0.025706934, -0.011151014, -0.0002789571, 0.0038892531, -0.016476655, 0.014476223, -0.0112104295, 0.036231674, 0.0064378004, 0.0007533916, 0.015766233, -0.016151626, 0.012372434, -0.019142777, 0.020514857, 0.00071828364, 0.005982165, -0.014367791, -0.015333509, 0.005345108, -0.015262734, -0.0038443988, 0.013834127, -0.026370056, 0.0032264302, -0.0022320673, 0.003296042, 0.005151816, -0.014909113, -0.003318364, 0.011395388, -0.0034198412, -0.00985613, -0.041011028, -0.027441368, -0.011203083, -0.02517142, 0.0037929008, -0.010318419, -0.034948155, -0.0017499129, -0.036293298, -0.002197718, 0.006250416, 5.463693e-05, -0.0064846496, 0.004643305, -0.00025722577, -0.0019690627, 0.011239229, 0.007833617, 0.004890937, -0.0047006225, -0.003260287, 0.005643646, 0.02851942, -0.017388523, 0.008011838, -0.012747845, 0.0011138907, -0.02253678, -0.014955836, 0.019552853, 0.0135705825, -0.0009424314, 0.0034747487, -0.0027867686, 0.0032132561, 0.0012288549, -0.0144365765, -0.016826628, -0.008293173, 0.008849647, -0.034381684, 0.011034997, -0.009365148, 0.010889956, -0.011257027, 0.0038368595, -0.037243903, 0.0077990857, 0.01252848, 0.009220971, 0.003137739, 0.009435054, -0.0007789594, -0.0074852915, -0.006131074, 0.0033400264, 0.011206441, 0.02188462, -0.015437513, 0.018843269, 0.0046304762, -0.02426778, 0.016711855, -0.021525335, -0.022621904, 0.012386557, 0.02426443, -0.022597838, 0.012092955, -0.020902043, -0.025624545, 0.017516293, -0.008703502, -0.0045903665, -0.005503157, 0.0042652027, -0.004587598, -0.0020126137, -0.010707184, -0.022873068, -0.00084577774, -0.010252855, 0.005993944, 0.0024007284, -0.014585493, -0.039081786, -0.015419825, -0.037973605, -0.0011117308, -0.0022245562, -0.019367518, -0.009779967, -0.018412456, -0.0060502393, 0.014991679, 0.02762466, 0.017297998, 0.023369897, -0.019735, 0.005332051, -0.012181188, -0.01913484, -0.017517116, -0.010170545, 0.022580719, -0.018732931, 0.013571808, -0.002682095, -0.0018263666, 0.022596918, 0.003483176, 0.019552737, -0.049956642, 0.01870655, -0.007968801, 0.000377051, 0.006241484, -0.025809996, 0.0091138715, 0.0004808027, -0.010515585, 0.00032049936, -0.018233193, 0.02851844, 0.006881812, -0.00024069684, 0.0046172603, 0.025148511, 0.0028442177, -0.015177195, 0.0006204198, 0.023236457, 0.016058343, 0.0012269012, 0.0027264287, -0.02671065, -0.0034339265, -0.0017302874, 0.0010106094, 0.013158061, 0.002132708, 0.008888428, 0.0001820728, 0.0078260265, 0.011007739, 0.009313834, -0.009508103, -0.008569254, -0.0040861056, -0.032783817, -0.022825686, -0.011817981, 0.0021318947, -0.00085872493, 0.014682052, -0.0045326017, 0.009172603, -0.0030611183, -0.0016459747, 0.003234626, 0.016603248, -0.0071421294, -0.005533926, -0.0034184302, -0.0062033017, 0.0157902, 0.012763993, 0.044974, -0.023384, -0.0074549452, 0.0033639271, 0.008535288, 0.026574984, 0.020417169, 0.009008696, -0.0006266845, 0.016289422, 0.015364435, -0.039046712, -0.013753563, 0.010202657, 0.0054872595, -0.008558405, -0.002880101, -0.0010011329, 0.003160632, -0.015395389, -0.03677437, 0.008492862, 0.004866557, 0.0030137904, -0.01720461, 0.011120161, 0.013193646, -0.0022841587, -0.010099695, -0.03482455, 0.00086517254, -0.0060415613, -0.13097762, 0.0024287833, 0.003567989, -0.0082936995, 0.006867229, -0.008615691, 0.0010546065, -0.005304523, -0.005556793, -0.020664394, 0.004382806, 0.004045165, 0.020846566, 0.0057184887, 0.017493034, 0.0036132347, 0.00065923814, 0.008618601, 0.0068172775, 0.0086975405, 0.013414084, -0.009299304, 0.00058185885, 0.0059976634, -0.037012286, -0.011931916, 0.011777154, 0.0023049165, -0.006690326, -0.016533917, -0.002666382, 0.010042446, -0.0044514914, 0.0050573824, -0.030390622, 0.021996163, 0.0076068332, 0.0031687578, 0.007940429, 0.02415544, 0.0073096612, -0.013858106, -0.008837224, -0.0022251618, -0.007965997, -0.0013699052, 0.029012032, -0.027917484, -0.0102347685, -0.01603805, -0.0017796322, -0.026604638, -0.0038052383, 0.019643473, -0.019873295, -0.01056824, -0.026427232, -0.014531437, -0.019725313, 0.044131346, -0.004500389, -0.0026814209, -0.031669028, 0.007205565, 0.0049848496, 0.0042291465, -0.0054358398, -0.0023607318, -0.0068035517, -0.002799538, -0.006833567, 0.0068094796, -0.018025964, 0.008645202, 0.00026093153, 0.04919185, 0.00083890243, 0.024215003, 0.010500557, 0.0041670245, -0.008596633, 0.054465324, -0.085639164, -0.027260913, -0.012667448, -0.00553782, 0.016378965, -0.013699598, 0.0047566104, -0.007011969, 0.035446875, 0.0075635226, -0.02860111, -0.006824179, -0.0016003702, -0.005244888, 0.013819803, 0.0062716147, -0.0062296703, 0.009329667, 0.0034456407, 0.00752181, -0.0077908942, 0.0046212403, -0.00062162196, -0.008800529, -0.013713165, -0.0058774906, -0.009079778, 0.0029292637, 0.01084459, -0.004831787, -0.0021549347, -0.12780157, 0.002835648, -0.0046959915, -0.009499414, 0.0018843604, 0.028570203, 0.003288869, 0.0055860495, -0.016657356, -0.005550564, 0.0124207, -0.013637146, -0.032817915, -0.009414177, 0.02754137, 0.13172768, 0.0025890926, -0.0027726549, -0.016741846, -0.008143004, -0.019531513, -0.003020723, 0.02785721, 0.0051552514, -0.012907447, -0.01409411, -0.022547426, 0.0077294917, 0.031455006, 0.007273449, 0.0030651123, -0.010886896, -0.023695866, -0.0071655274, 0.001679658, -0.026369832, -0.0076913596, -0.02591949, 0.02944859, -0.0059693884, 0.0065673413, 0.022697262, -0.023688441, 0.042937376, -0.012203501, -0.007455712, 0.003747207, -0.014808504, -0.02188111, 0.0096995, -0.0060228, -0.043087777, -0.021222902, -0.0045247963, 0.0042587435, 0.006769195, -0.011020027, 0.0059208088, 0.019816972, 0.0011256835, -0.022202814, 0.006996197, 0.011219369, 0.015317034, -0.009896619, 0.023907013, 0.026523873, 0.002458659, -0.005698528, 0.0109941615, 0.011057756, -0.012066535, -0.018106595, 0.008476674, 0.012751074, -0.020992119, -0.019392643, 0.02199577, -0.0033605595, -0.03128139, -0.0052518765, 0.045743573, 0.003827433, 0.022309285, 0.029023705, -0.0015952901, 0.015858093, -0.010499163, -0.0076177097, -0.00089588785, 0.007536239, 0.041859783, -8.10517e-05, 0.0071120355, 0.0015006423, -0.008290304, 0.008299081, -0.012166991, 0.026567353, 0.01213315, -0.014153048, 0.013437186, 0.023576604, 0.0016471464, -0.001508093, -0.0067257374, 0.0154694095, -0.01568928, 0.029022165, 0.011172]\n"
     ]
    }
   ],
   "source": [
    "query_text = \"Can u give me whole sumary of chemistry document?\"\n",
    "length_of_query = len(query_text.strip())\n",
    "if length_of_query == 0:\n",
    "    print(\"Query is Empty\")\n",
    "else:  \n",
    "    try:\n",
    "        query_response = client.models.embed_content(\n",
    "            model=\"gemini-embedding-001\",\n",
    "            contents=[types.Part.from_text(text=query_text)],\n",
    "            config=types.EmbedContentConfig(\n",
    "                task_type=\"RETRIEVAL_QUERY\",\n",
    "                output_dimensionality=768\n",
    "            ),\n",
    "        )\n",
    "    except ClientError as e:\n",
    "            print(f\"An error occurred while embedding the query: {e.message}\")\n",
    "\n",
    "# embedded_query contaids float value (VECTOR)\n",
    "if query_response.embeddings is not None:\n",
    "    embedded_query = query_response.embeddings[0].values\n",
    "    print(embedded_query)\n",
    "else:\n",
    "    print(\"I think Embedded_Query is empty\")"
   ]
  },
  {
   "cell_type": "markdown",
   "id": "b4afc78a",
   "metadata": {},
   "source": [
    "Getting result from chromaDB"
   ]
  },
  {
   "cell_type": "code",
   "execution_count": 52,
   "id": "69e29e76",
   "metadata": {},
   "outputs": [
    {
     "name": "stdout",
     "output_type": "stream",
     "text": [
      "Query results: [['combining elements.\\n• The composition of a compound is the\\nsame throughout. We can also observe\\nthat the texture and the colour of the\\ncompound are the same throughout.\\nThus, we can summarise the physical\\nand chemical nature of matter in the\\nfollowing graphical organiser:', 'daily life. The particles are called the dispersed phase and\\nthe medium in which they are distributed is called the\\ndispersion medium.\\n• Pure substances can be elements or compounds. An element\\nis a form of matter that cannot be broken down by chemical', '2. Try segr egating the things\\naround you as pure substances\\nor mixtures.\\n2.4 What are the Types of Pure\\nSubstances?\\nOn the basis of their chemical composition,\\nsubstances can be classified either as elements\\nor compounds.\\n2.4.1 ELEMENTS\\nRobert Boyle was the first scientist to use the', 'properties, though the starting materials were\\nthe same. Group I has carried out the activity\\ninvolving a physical change whereas in case\\nof Group II, a chemical change (a chemical\\nreaction) has taken place.\\n• The material obtained by group I is a\\nmixture of the two substances. The', 'as a basic form of matter that cannot be broken\\ndown into simpler substances by chemical\\nreactions.\\nElements can be normally divided into\\nmetals, non-metals and metalloids.\\nMetals usually show some or all of the\\nfollowing properties:\\n• They have a lustre (shine).']]\n"
     ]
    }
   ],
   "source": [
    "if query_response.embeddings is not None and len(query_response.embeddings) > 0:\n",
    "    \n",
    "    results = collection.query(\n",
    "        query_embeddings=[embedded_query],\n",
    "        n_results=5\n",
    "    )\n",
    "    print(\"Query results:\", results[\"documents\"])\n",
    "\n",
    "else:\n",
    "    print(\"Failed to generate query embedding\")\n",
    "    print(\"Response:\", query_response)"
   ]
  },
  {
   "cell_type": "markdown",
   "id": "a1dc2938",
   "metadata": {},
   "source": [
    "Getting response from Gemini"
   ]
  },
  {
   "cell_type": "code",
   "execution_count": 53,
   "id": "8938daf3",
   "metadata": {},
   "outputs": [
    {
     "name": "stdout",
     "output_type": "stream",
     "text": [
      "This chemistry document discusses the nature of matter, specifically focusing on pure substances and mixtures. It explains that compounds are formed by combining elements and have a uniform composition, texture, and color. Pure substances are further classified into elements and compounds. An element is defined as a basic form of matter that cannot be broken down into simpler substances by chemical reactions. Elements are typically divided into metals, non-metals, and metalloids, with metals possessing properties like luster. The document also touches upon physical and chemical changes, differentiating between mixtures and compounds. It mentions that matter can exist as dispersed phases within a dispersion medium, referring to this as a colloid.\n",
      "\n",
      "Source: chemistry9.pdf\n"
     ]
    }
   ],
   "source": [
    "try:\n",
    "    response = client.models.generate_content(\n",
    "        model=\"gemini-2.5-flash-lite\",\n",
    "        contents=[f\"This is my question:{query_text} tell me from this context: {results['documents']}. Remember to lastly mention only Source from {results['metadatas']}\"]\n",
    "    )\n",
    "    print(response.text)\n",
    "except Exception as e:\n",
    "    if hasattr(e, \"message\") and \"model is overloaded\" in str(e.message):\n",
    "        print(f\"The model is overloaded. Please try again later.\\n actual error : {e}\")\n",
    "    elif \"model is overloaded\" in str(e):\n",
    "        print(f\"The model is overloaded. Please try again later.\\n actual error : {e}\")\n",
    "    else:\n",
    "        print(f\"An error occurred: {e}\")"
   ]
  }
 ],
 "metadata": {
  "kernelspec": {
   "display_name": "Python 3",
   "language": "python",
   "name": "python3"
  },
  "language_info": {
   "codemirror_mode": {
    "name": "ipython",
    "version": 3
   },
   "file_extension": ".py",
   "mimetype": "text/x-python",
   "name": "python",
   "nbconvert_exporter": "python",
   "pygments_lexer": "ipython3",
   "version": "3.13.7"
  }
 },
 "nbformat": 4,
 "nbformat_minor": 5
}
