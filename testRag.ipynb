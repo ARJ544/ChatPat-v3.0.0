{
 "cells": [
  {
   "cell_type": "markdown",
   "id": "df7b702f",
   "metadata": {},
   "source": [
    "Important Imports"
   ]
  },
  {
   "cell_type": "code",
   "execution_count": null,
   "id": "efbacd9f",
   "metadata": {},
   "outputs": [],
   "source": [
    "from google import genai\n",
    "from google.genai.errors import ClientError\n",
    "from google.genai import types\n",
    "import os\n",
    "from dotenv import load_dotenv\n",
    "from google.genai.types import EmbedContentConfig\n",
    "from pypdf import PdfReader\n",
    "from langchain_text_splitters import RecursiveCharacterTextSplitter\n",
    "import chromadb"
   ]
  },
  {
   "cell_type": "markdown",
   "id": "111fe3f4",
   "metadata": {},
   "source": [
    "Load apiKey from .env file"
   ]
  },
  {
   "cell_type": "code",
   "execution_count": null,
   "id": "6598b88a",
   "metadata": {},
   "outputs": [],
   "source": [
    "load_dotenv()\n",
    "api_key = os.getenv(\"GEMINI_API_KEY\")\n",
    "client = genai.Client(api_key=api_key)"
   ]
  },
  {
   "cell_type": "markdown",
   "id": "79a1a606",
   "metadata": {},
   "source": [
    "Extract Text from PDF Function"
   ]
  },
  {
   "cell_type": "code",
   "execution_count": null,
   "id": "d138015f",
   "metadata": {},
   "outputs": [],
   "source": [
    "def extract_text_from_pdf(pdf_path):\n",
    "    try:\n",
    "        reader = PdfReader(pdf_path)\n",
    "        full_text = \"\"\n",
    "\n",
    "        if len(reader.pages) == 0:\n",
    "            print(\"PDF has no pages\")\n",
    "            return \"\"\n",
    "\n",
    "        for page_num in range(len(reader.pages)):\n",
    "            page = reader.pages[page_num]\n",
    "            text = page.extract_text()\n",
    "            if text:\n",
    "                full_text += text\n",
    "\n",
    "        print(f\"Number of pages in PDF: {len(reader.pages)}\")\n",
    "\n",
    "        return full_text\n",
    "\n",
    "    except Exception as e:\n",
    "        return f\"An error occurred: {e}\"\n"
   ]
  },
  {
   "cell_type": "markdown",
   "id": "c561ddda",
   "metadata": {},
   "source": [
    "Use extract_text function to extract from pdf"
   ]
  },
  {
   "cell_type": "code",
   "execution_count": null,
   "id": "7f8b5c79",
   "metadata": {},
   "outputs": [],
   "source": [
    "file_to_extract = \"./chemistry9.pdf\"\n",
    "extracted_txt_content = extract_text_from_pdf(file_to_extract)\n",
    "\n",
    "# Uncomment this line to print extracted text\n",
    "if \"An error occurred\" not in extracted_txt_content:\n",
    "    print(\"Extracted Text:\")\n",
    "    print(extracted_txt_content)\n",
    "else:\n",
    "    print(extracted_txt_content)"
   ]
  },
  {
   "cell_type": "markdown",
   "id": "6fc761aa",
   "metadata": {},
   "source": [
    "Extract the pdf name to use as metadata"
   ]
  },
  {
   "cell_type": "code",
   "execution_count": null,
   "id": "61ae9f80",
   "metadata": {},
   "outputs": [],
   "source": [
    "def get_fileName(file):\n",
    "    return file[2:len(file)]\n",
    "\n",
    "file_Name = get_fileName(file_to_extract)\n",
    "print(file_Name)"
   ]
  },
  {
   "cell_type": "markdown",
   "id": "672a1fcf",
   "metadata": {},
   "source": [
    "Split the extracted text into Chunks using LangChain"
   ]
  },
  {
   "cell_type": "code",
   "execution_count": null,
   "id": "f75dcc68",
   "metadata": {},
   "outputs": [],
   "source": [
    "def chunk_text(text, chunk_size=300, chunk_overlap=50):\n",
    "    splitter = RecursiveCharacterTextSplitter(\n",
    "        chunk_size=chunk_size,      \n",
    "        chunk_overlap=chunk_overlap,\n",
    "        add_start_index=True,\n",
    "        length_function=len,\n",
    "        separators=[\"\\n\\n\", \"\\n\", \" \", \"\"]\n",
    "    )\n",
    "    chunks = splitter.split_text(text.replace(\"\\n\", \" \"))\n",
    "    return chunks\n",
    "txt_after_chunk_array = chunk_text(extracted_txt_content)\n",
    "\n",
    "# Uncomment this line to print output of Chunked Text\n",
    "print(len(txt_after_chunk_array))\n",
    "print(txt_after_chunk_array)"
   ]
  },
  {
   "cell_type": "markdown",
   "id": "3d55be74",
   "metadata": {},
   "source": [
    "Embedding the Chunks With Gemini-Embedding-Model"
   ]
  },
  {
   "cell_type": "code",
   "execution_count": null,
   "id": "2a5b9c9c",
   "metadata": {},
   "outputs": [],
   "source": [
    "embedding_dim = 768 # increase the dimension to increase the quality\n",
    "\n",
    "embeddings = []\n",
    "for chunk in txt_after_chunk_array:\n",
    "    response = client.models.embed_content( \n",
    "        model=\"gemini-embedding-001\",\n",
    "        contents=[chunk],\n",
    "        config=types.EmbedContentConfig(\n",
    "            task_type=\"RETRIEVAL_DOCUMENT\",\n",
    "            output_dimensionality=embedding_dim\n",
    "        ),\n",
    "    )\n",
    "    embeddings.append(response)\n",
    "\n",
    "# processed_embeddings contains the floating number(VECTORS)\n",
    "processed_embeddings = [\n",
    "    e.embeddings[0].values for e in embeddings\n",
    "]\n",
    "print(processed_embeddings)"
   ]
  },
  {
   "cell_type": "markdown",
   "id": "221d9b3f",
   "metadata": {},
   "source": [
    "Create ChromaDB Collection"
   ]
  },
  {
   "cell_type": "code",
   "execution_count": null,
   "id": "8c960302",
   "metadata": {},
   "outputs": [],
   "source": [
    "chroma_client = chromadb.PersistentClient(path=\"./chroma_data\")\n",
    "\n",
    "collection = chroma_client.get_or_create_collection(\n",
    "    name=\"TestTryCollection\",\n",
    "    metadata={\"source\": \"ARJ's\"}\n",
    ")"
   ]
  },
  {
   "cell_type": "markdown",
   "id": "15323007",
   "metadata": {},
   "source": [
    "Insert data into ChromaDB"
   ]
  },
  {
   "cell_type": "code",
   "execution_count": null,
   "id": "5ae8cd18",
   "metadata": {},
   "outputs": [],
   "source": [
    "ids = [f\"{file_Name}_chunk_{i}\" for i in range(len(txt_after_chunk_array))]\n",
    "print(len(txt_after_chunk_array))\n",
    "\n",
    "collection.upsert(\n",
    "    ids=ids,\n",
    "    documents=txt_after_chunk_array,\n",
    "    embeddings=processed_embeddings,\n",
    "    metadatas=[{\"chunk_index\": i, \"Source\": file_Name} for i in range(len(txt_after_chunk_array))]\n",
    ")"
   ]
  },
  {
   "cell_type": "markdown",
   "id": "4c320aca",
   "metadata": {},
   "source": [
    "Embed User query/promt with Gemini"
   ]
  },
  {
   "cell_type": "code",
   "execution_count": null,
   "id": "d5293137",
   "metadata": {},
   "outputs": [],
   "source": [
    "query_text = \"What is organic chemistry?\"\n",
    "# formula of force?\n",
    "# What is  Tyndall Effect and how can it be observed?\n",
    "# Antoine  Laurent Lavoisier born in? ====> 1943\n",
    "# In physics what is written in section 9.1.1?\n",
    "length_of_query = len(query_text.strip())\n",
    "if length_of_query == 0:\n",
    "    print(\"Query is Empty\")\n",
    "else:  \n",
    "    try:\n",
    "        query_response = client.models.embed_content(\n",
    "            model=\"gemini-embedding-001\",\n",
    "            contents=[query_text],\n",
    "            config=types.EmbedContentConfig(\n",
    "                task_type=\"RETRIEVAL_QUERY\",\n",
    "                output_dimensionality=768\n",
    "            ),\n",
    "        )\n",
    "    except ClientError as e:\n",
    "            print(f\"An error occurred while embedding the query: {e.message}\")\n",
    "\n",
    "# embedded_query contaids float value (VECTOR)\n",
    "if query_response.embeddings is not None:\n",
    "    embedded_query = query_response.embeddings[0].values\n",
    "    print(embedded_query)\n",
    "else:\n",
    "    print(\"I think Embedded_Query is empty\")"
   ]
  },
  {
   "cell_type": "markdown",
   "id": "b4afc78a",
   "metadata": {},
   "source": [
    "Getting result from chromaDB"
   ]
  },
  {
   "cell_type": "code",
   "execution_count": null,
   "id": "69e29e76",
   "metadata": {},
   "outputs": [],
   "source": [
    "if query_response.embeddings is not None and len(query_response.embeddings) > 0:\n",
    "    \n",
    "    results = collection.query(\n",
    "        query_embeddings=[embedded_query],\n",
    "        n_results=5\n",
    "    )\n",
    "    print(\"Query results:\", results[\"documents\"])\n",
    "\n",
    "else:\n",
    "    print(\"Failed to generate query embedding\")\n",
    "    print(\"Response:\", query_response)"
   ]
  },
  {
   "cell_type": "markdown",
   "id": "a1dc2938",
   "metadata": {},
   "source": [
    "Getting response from Gemini"
   ]
  },
  {
   "cell_type": "code",
   "execution_count": null,
   "id": "8938daf3",
   "metadata": {},
   "outputs": [],
   "source": [
    "try:\n",
    "    response = client.models.generate_content(\n",
    "        model=\"gemini-2.5-flash-lite\",\n",
    "        contents=[f\"This is my question:{query_text} tell me from this context: {results['documents']}. Remember to lastly mention only Source from {results['metadatas']}\"]\n",
    "    )\n",
    "    print(response.text)\n",
    "except Exception as e:\n",
    "    if hasattr(e, \"message\") and \"model is overloaded\" in str(e.message):\n",
    "        print(f\"The model is overloaded. Please try again later.\\n actual error : {e}\")\n",
    "    elif \"model is overloaded\" in str(e):\n",
    "        print(f\"The model is overloaded. Please try again later.\\n actual error : {e}\")\n",
    "    else:\n",
    "        print(f\"An error occurred: {e}\")"
   ]
  }
 ],
 "metadata": {
  "kernelspec": {
   "display_name": "Python 3",
   "language": "python",
   "name": "python3"
  },
  "language_info": {
   "codemirror_mode": {
    "name": "ipython",
    "version": 3
   },
   "file_extension": ".py",
   "mimetype": "text/x-python",
   "name": "python",
   "nbconvert_exporter": "python",
   "pygments_lexer": "ipython3",
   "version": "3.13.7"
  }
 },
 "nbformat": 4,
 "nbformat_minor": 5
}
