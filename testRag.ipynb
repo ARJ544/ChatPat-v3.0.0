{
 "cells": [
  {
   "cell_type": "markdown",
   "id": "df7b702f",
   "metadata": {},
   "source": [
    "Important Imports"
   ]
  },
  {
   "cell_type": "code",
   "execution_count": null,
   "id": "efbacd9f",
   "metadata": {},
   "outputs": [],
   "source": [
    "from google import genai\n",
    "from google.genai.errors import ClientError\n",
    "from google.genai import types\n",
    "import os\n",
    "from dotenv import load_dotenv\n",
    "from google.genai.types import EmbedContentConfig\n",
    "from pypdf import PdfReader\n",
    "from langchain_text_splitters import RecursiveCharacterTextSplitter\n",
    "import chromadb"
   ]
  },
  {
   "cell_type": "markdown",
   "id": "111fe3f4",
   "metadata": {},
   "source": [
    "Load apiKey from .env file"
   ]
  },
  {
   "cell_type": "code",
   "execution_count": null,
   "id": "6598b88a",
   "metadata": {},
   "outputs": [],
   "source": [
    "load_dotenv()\n",
    "api_key = os.getenv(\"GEMINI_API_KEY\")\n",
    "client = genai.Client(api_key=api_key)"
   ]
  },
  {
   "cell_type": "markdown",
   "id": "79a1a606",
   "metadata": {},
   "source": [
    "Extract Text from PDF Function"
   ]
  },
  {
   "cell_type": "code",
   "execution_count": null,
   "id": "d138015f",
   "metadata": {},
   "outputs": [],
   "source": [
    "def extract_text_from_pdf(pdf_path):\n",
    "    try:\n",
    "        reader = PdfReader(pdf_path)\n",
    "        full_text = \"\"\n",
    "\n",
    "        if len(reader.pages) == 0:\n",
    "            print(\"PDF has no pages\")\n",
    "            return \"\"\n",
    "\n",
    "        for page_num in range(len(reader.pages)):\n",
    "            page = reader.pages[page_num]\n",
    "            text = page.extract_text()\n",
    "            if text:\n",
    "                full_text += text\n",
    "\n",
    "        print(f\"Number of pages in PDF: {len(reader.pages)}\")\n",
    "\n",
    "        return full_text\n",
    "\n",
    "    except Exception as e:\n",
    "        return f\"An error occurred: {e}\"\n"
   ]
  },
  {
   "cell_type": "markdown",
   "id": "c561ddda",
   "metadata": {},
   "source": [
    "Use extract_text function to extract from pdf"
   ]
  },
  {
   "cell_type": "code",
   "execution_count": null,
   "id": "7f8b5c79",
   "metadata": {},
   "outputs": [],
   "source": [
    "file_to_extract = \"./chemistry9.pdf\"\n",
    "extracted_txt_content = extract_text_from_pdf(file_to_extract)\n",
    "\n",
    "# Uncomment this line to print extracted text\n",
    "if \"An error occurred\" not in extracted_txt_content:\n",
    "    print(\"Extracted Text:\")\n",
    "    print(extracted_txt_content)\n",
    "else:\n",
    "    print(extracted_txt_content)"
   ]
  },
  {
   "cell_type": "markdown",
   "id": "6fc761aa",
   "metadata": {},
   "source": [
    "Extract the pdf name to use as metadata"
   ]
  },
  {
   "cell_type": "code",
   "execution_count": null,
   "id": "61ae9f80",
   "metadata": {},
   "outputs": [],
   "source": [
    "def get_fileName(file):\n",
    "    return file[2:len(file)]\n",
    "\n",
    "file_Name = get_fileName(file_to_extract)\n",
    "print(file_Name)"
   ]
  },
  {
   "cell_type": "markdown",
   "id": "672a1fcf",
   "metadata": {},
   "source": [
    "Split the extracted text into Chunks using LangChain"
   ]
  },
  {
   "cell_type": "code",
   "execution_count": 64,
   "id": "f75dcc68",
   "metadata": {},
   "outputs": [
    {
     "name": "stdout",
     "output_type": "stream",
     "text": [
      "102\n",
      "['Fig. 2.1: Some consumable items Have you ever noticed the word ‘pure’ written on the packs of these consumables? For a common person pure means having no adulteration. But, for a scientist all these things are actually mixtures of different substances and hence not pure. For example, milk is', 'and hence not pure. For example, milk is actually a mixture of water, fat, proteins, etc. When a scientist says that something is pure, it means that all the constituent particles of that substance are the same in their chemical nature. A pure substance consists of a single type of particle. In', 'consists of a single type of particle. In other words, a substance is a pure single form of matter. As we look around, we can see that most of the matter around us exists as mixtures of two or more pure components, for example, sea water, minerals, soil, etc., are all mixtures. 2.1 What is a', 'soil, etc., are all mixtures. 2.1 What is a Mixture? Mixtures  are constituted by more than one kind of pur e for m of matter . We know that dissolved sodium chloride can be separated from water by the physical process of evaporation. However, sodium chloride is itself a pure substance and cannot', 'chloride is itself a pure substance and cannot be separated by physical process into its chemical constituents. Similarly, sugar is a substance which contains only one kind of pure matter and its composition is the same throughout. Soft drink and soil are not single pure substances. Whatever the', 'soil are not single pure substances. Whatever the source of a pure substance may be, it will always have the same characteristic properties. Therefore, we can say that a mixture contains more than one pure substance. 2.1.1 TYPES  OF MIXTURES Depending upon the nature of the components that form a', 'upon the nature of the components that form a mixture, we can have different types of mixtures. Activity ______________ 2.1 • Let us divide the class into groups A, B, C and D. • Group A takes a beaker containing 50 mL of water and one spatula full of copper sulphate powder . Gr oup B takes 50 mL', 'of copper sulphate powder . Gr oup B takes 50 mL of water and two spatula full of copper sulphate powder in a beaker. • Groups C and D can take different amounts of copper sulphate and potassium permanganate or common salt (sodium chloride) and mix the given components to form a mixture. • Report', 'the given components to form a mixture. • Report the observations on the uniformity in colour and texture. • Groups A and B have obtained a mixture which has a uniform composition throughout. Such mixtures are called homogeneous mixtures or solutions. Some other examples of such mixtures are: (i)', 'Some other examples of such mixtures are: (i) salt dissolved in water and (ii) sugar dissolved in water . Compar e the How do we judge whether milk, ghee, butter, salt, spices, mineral water or juice that we buy from the market are pure? 2 III IIS SS SS M  M M  M MATTER ATTERATTER ATTERATTER A  A A', 'SS M  M M  M MATTER ATTERATTER ATTERATTER A  A A  A AROUND ROUNDROUND ROUNDROUND U  U U  U US SS SS P  P P  P PURE UREURE UREURE? ?? ?? Chapter Reprint 2025-26 More to  know colour of the solutions of the two groups. Though both the groups have obtained copper sulphate solution but the intensity of', 'copper sulphate solution but the intensity of colour of the solutions is different. This shows that a homogeneous mixture can have a variable composition. • Groups C and D have obtained mixtures, which contain physically distinct parts and have non-uniform compositions. Such mixtures are called', 'compositions. Such mixtures are called heterogeneous mixtures. Mixtures of sodium chloride and iron filings, salt and sulphur , and oil and water ar e examples of heterogeneous mixtures. Activity ______________ 2.2 • Let us again divide the class into four groups— A, B, C and D. • Distribute the', 'into four groups— A, B, C and D. • Distribute the following samples to each group: − Few crystals of copper sulphate to group A. − One spatula full of copper sulphate to group B. − Chalk powder or wheat flour to group C. − Few drops of milk or ink to group D. • Each group should add the given', 'ink to group D. • Each group should add the given sample in water and stir properly using a glass rod. Are the particles in the mixture visible? • Direct a beam of light from a torch through the beaker containing the mixture and observe from the front. Was the path of the beam of light visible? •', 'Was the path of the beam of light visible? • Leave the mixtures undisturbed for a few minutes (and set up the filtration apparatus in the meantime). Is the mixture stable or do the particles begin to settle after some time? • Filter the mixture. Is there any residue on the filter paper? • Discuss', 'there any residue on the filter paper? • Discuss the results and form an opinion. Groups A and B have got a solution. Group C has got a suspension. Group D has got a colloidal solution. Now, we shall learn about solutions, suspensions and colloidal solutions in the following sections. uestions 1.', 'solutions in the following sections. uestions 1. What is meant by a substance? 2. List the points of differences between homogeneous and heterogeneous mixtures. 2.2 What is a Solution? A solution is a homogeneous mixture of two or more substances. You come across various types of solutions in your', 'come across various types of solutions in your daily life. Lemonade, soda water, etc., are all examples of solutions. Usually we think of a solution as a liquid that contains either a solid, liquid or a gas dissolved in it. But, we can also have solid solutions (alloys) and gaseous solutions (air).', 'solutions (alloys) and gaseous solutions (air). In a solution there is homogeneity at the particle level. For example, lemonade tastes the same throughout. This shows that particles of sugar or salt are evenly distributed in the solution. Q Fig. 2.2: Filtration Alloys: Alloys are mixtures of two or', 'Filtration Alloys: Alloys are mixtures of two or more metals or a metal and a non-metal and cannot be separated into their components by physical methods. But still, an alloy is considered as a mixture because it shows the properties of its constituents and can have variable composition. For', 'and can have variable composition. For example, brass is a mixture of approximately 30% zinc and 70% copper. IS MATTER AROUND US  PURE? 15 Reprint 2025-26 SCIENCE16 A solution has a solvent and a solute as its components. The component of the solution that dissolves the other component in it', 'solution that dissolves the other component in it (usually the component present in larger amount) is called the solvent. The component of the solution that is dissolved in the solvent (usually present in lesser quantity) is called the solute. Examples: (i) A solution of sugar in water is a solid', '(i) A solution of sugar in water is a solid in liquid solution. In this solution, sugar is the solute and water is the solvent. (ii) A solution of iodine in alcohol known as ‘tincture of iodine’, has iodine (solid) as the solute and alcohol (liquid) as the solvent. (iii) Aerated drinks like soda', 'as the solvent. (iii) Aerated drinks like soda water, etc., are gas in liquid solutions. These contain carbon dioxide (gas) as solute and water (liquid) as solvent. (iv) Air is a mixture of gas in gas. Air is a homogeneous mixture of a number of gases. Its two main constituents are: oxygen (21%)', 'Its two main constituents are: oxygen (21%) and nitrogen (78%). The other gases are present in very small quantities. Properties of a Solution • A solution is a homogeneous mixture. • The particles of a solution are smaller than 1 nm (10-9 metre) in diameter. So, they cannot be seen by naked eyes.', 'diameter. So, they cannot be seen by naked eyes. • Because of very small particle size, they do not scatter a beam of light passing through the solution. So, the path of light is not visible in a solution. • The solute particles cannot be separated from the mixture by the process of filtration. The', 'the mixture by the process of filtration. The solute particles do not settle down when left undisturbed, that is, a solution is stable. 2.2.1 CONCENTRATION OF A SOLUTION In activity 2.2, we observed that groups A and B obtained different shades of solutions. So, we understand that in a solution the', 'So, we understand that in a solution the relative proportion of the solute and solvent can be varied. Depending upon the amount of solute present in a solution, it can be called  dilute, concentrated or  saturated solution. Dilute and concentrated are comparative terms. In activity 2.2, the', 'are comparative terms. In activity 2.2, the solution obtained by group A is dilute as compared to that obtained by group B. Activity ______________ 2.3 • Take approximately 50 mL of water each in two separate beakers. • Add salt in one beaker and sugar or barium chloride in the second beaker with', 'or barium chloride in the second beaker with continuous stirring. • When no more solute can be dissolved, heat the contents of the beaker to raise the temperature by about 5 oC.° • Start adding the solute again. Is the amount of salt and sugar or barium chloride, that can be dissolved in water at a', 'chloride, that can be dissolved in water at a given temperature, the same? At any particular temperature, a solution that has dissolved as much solute as it is capable of dissolving, is said to be a saturated solution. In other words, when no more solute can be dissolved in a solution at a given', 'solute can be dissolved in a solution at a given temperature, it is called a saturated solution. The amount of the solute present in the saturated solution at this temperature is called its solubility. If the amount of solute contained in a solution is less than the saturation level, it is called', 'is less than the saturation level, it is called an unsaturated solution. What would happen if you were to take a saturated solution at a certain temperature and cool it slowly. We can infer fr om the above activity that different substances in a given solvent have different solubilities at the same', 'solvent have different solubilities at the same temperature. The concentration of a solution is the amount (mass or volume) of solute present in a given amount (mass or volume) of solution. There are various ways of expressing the concentration of a solution, but here we will learn only three', 'of a solution, but here we will learn only three methods. (i) Mass by mass percentage of a solution Mass of solute= ×100 Mass of solution Reprint 2025-26 IS MATTER AROUND US PURE? 17 (ii) Mass by volume percentage of a solution Mass of solute= ×100 Volume of solution (iii) Volume by volume per', 'Volume of solution (iii) Volume by volume per centage of a solution Volume of solute= ×100 Volume of solution Example 2.1 A solution contains 40 g of common salt in 320 g of water. Calculate the concentration in terms of mass by mass percentage of the solution. Solution: Mass of solute (salt) = 40', 'solution. Solution: Mass of solute (salt) = 40 g Mass of solvent (water) = 320 g We know, Mass of solution = Mass of solute + Mass of solvent = 40 g + 320 g = 360 g Mass percentage of solution Mass of solute= ×100 Massof solution                   40= ×100 =11.1% 360 2.2.2 WHAT IS A SUSPENSION?', '40= ×100 =11.1% 360 2.2.2 WHAT IS A SUSPENSION? Non-homogeneous systems, like those obtained by group C in activity 2.2, in which solids are dispersed in liquids, are called suspensions. A suspension is a heterogeneous mixture in which the solute particles do not dissolve but remain suspended', 'particles do not dissolve but remain suspended throughout the bulk of the medium. Particles of a suspension are visible to the naked eye. Properties of a Suspension • Suspension is a heterogeneous mixture. • The particles of a suspension can be seen by the naked eye. • The particles of a suspension', 'by the naked eye. • The particles of a suspension scatter a beam of light passing through it and make its path visible. • The solute particles settle down when a suspension is left undisturbed, that is, a suspension is unstable. They can be separated from the mixture by the process of filtration.', 'from the mixture by the process of filtration. When the particles settle down, the suspension breaks and it does not scatter light any more. 2.2.3 WHAT IS  A COLLOIDAL SOLUTION? The mixture obtained by group D in activity 2.2 is called a colloid or a colloidal solution. The particles of a colloid', 'a colloidal solution. The particles of a colloid are uniformly spread throughout the solution. Due to the relatively smaller size of particles, as compared to that of a suspension, the mixture appears to be homogeneous. But actually, a colloidal solution is a heterogeneous mixture, for example,', 'solution is a heterogeneous mixture, for example, milk. Because of the small size of colloidal particles, we cannot see them with naked eyes. But, these particles can easily scatter a beam of visible light as observed in activity 2.2. This scattering of a beam of light is called the Tyndall effect', 'of a beam of light is called the Tyndall effect after the name of the scientist who discovered this effect. Tyndall effect can also be observed when a fine beam of light enters a room through a small hole. This happens due to the scattering of light by the particles of dust and smoke in the air.', 'by the particles of dust and smoke in the air. Fig. 2.3: (a) Solution of copper sulphate does not show Tyndall effect, (b) mixture of water and milk shows Tyndall effect. (a) (b) Reprint 2025-26 SCIENCE18 18181818 Q • Colloids are big enough to scatter a beam of light passing through it and make', 'a beam of light passing through it and make its path visible. • They do not settle down when left undisturbed, that is, a colloid is quite stable. • They cannot be separated from the mixture by the process of filtration. But, a special technique of separation known as centrifugation can be used to', 'separation known as centrifugation can be used to separate the colloidal particles. The components of a colloidal solution are the dispersed phase and the dispersion medium. The solute-like component or the dispersed particles in a colloid form the dispersed phase, and the component in which the', 'dispersed phase, and the component in which the dispersed phase is suspended is known as the dispersing medium. Colloids are classified according to the state (solid, liquid or gas) of the dispersing medium and  the dispersed phase. A few common examples are given in Table 2.1. From this table you', 'are given in Table 2.1. From this table you can see that they are very common everyday life. Tyndall effect can be observed when sunlight passes through the canopy of a dense forest. In the forest, mist contains tiny droplets of water , which act as particles of colloid dispersed in air. Fig. 2.4:', 'particles of colloid dispersed in air. Fig. 2.4: Fig. 2.4:Fig. 2.4: Fig. 2.4:Fig. 2.4: The Tyndall effect uestions 1. Differentiate between homogeneous and heterogeneous mixtures with examples. 2. How are sol, solution and suspension different from each other? 3. To make a saturated solution,  36 g', 'other? 3. To make a saturated solution,  36 g of sodium chloride is dissolved in 100 g of water at 293 K. Find its concentration at this temperature. Properties of a ColloidProperties of a ColloidProperties of a ColloidProperties of a ColloidProperties of a Colloid • A colloid is a heterogeneous', 'of a Colloid • A colloid is a heterogeneous mixture. • The size of particles of a colloid is too small to be individually seen with naked eyes. Table 2.1:  Common examples of colloidsTable 2.1:  Common examples of colloidsTable 2.1:  Common examples of colloidsTable 2.1:  Common examples of', 'of colloidsTable 2.1:  Common examples of colloidsTable 2.1:  Common examples of colloids DispersedDispersedDispersedDispersedDispersed DispersingDispersingDispersingDispersingDispersing Type TypeTypeTypeType Example ExampleExample ExampleExample phase phasephase phasephase Medium MediumMedium', 'phase phasephase phasephase Medium MediumMedium MediumMedium Liquid Gas Aerosol Fog, clouds, mist Solid Gas Aerosol Smoke, automobile exhaust Gas Liquid Foam Shaving cream Liquid Liquid Emulsion Milk, face cream Solid Liquid Sol Milk of magnesia, mud Gas Solid Foam Foam, rubber, sponge, pumice', 'mud Gas Solid Foam Foam, rubber, sponge, pumice Liquid Solid Gel Jelly, cheese, butter Solid Solid Solid Sol Coloured gemstone, milky glass Reprint 2025-26 IS MATTER AROUND US PURE? 19 2.3 Physical and Chemical Changes In the previous chapter, we have learnt about a few physical properties of', 'we have learnt about a few physical properties of matter . The properties that can be observed and specified like colour , har dness, rigidity, fluidity, density, melting point, boiling point etc. are the physical properites. The interconversion of states is a physical change because these changes', 'states is a physical change because these changes occur without a change in composition and no change in the chemical nature of the substance. Although ice, water and water vapour all look different and display different physical properties, they are chemically the same. Both water and cooking oil', 'chemically the same. Both water and cooking oil  are liquid but their chemical characteristics are different. They differ in odour and inflammability. We know that oil burns in air whereas water extinguishes fire. It is this chemical property of oil that makes it dif ferent fr om water . Burning is', 'that makes it dif ferent fr om water . Burning is a chemical change. During this process one substance reacts with another to undergo a change in chemical composition. Chemical change brings change in the chemical properties of matter and we get new substances. A chemical change is also called a', 'substances. A chemical change is also called a chemical reaction. During burning of a candle, both physical and chemical changes take place. Can you distinguish these? uestions 1. Classify the following as chemical or physical changes: • cutting of trees, • melting of butter in a pan, • rusting of', 'trees, • melting of butter in a pan, • rusting of almirah, • boiling of water to form steam, • passing of electric current, through water and the water breaking down into hydrogen and oxygen gases, • dissolving common salt in water, • making a fruit salad with raw fruits, and Q • burning of paper', 'salad with raw fruits, and Q • burning of paper and wood. 2. Try segr egating the things around you as pure substances or mixtures. 2.4 What are the Types of Pure Substances? On the basis of their chemical composition, substances can be classified either as elements or compounds. 2.4.1 ELEMENTS', 'either as elements or compounds. 2.4.1 ELEMENTS Robert Boyle was the first scientist to use the term element in 1661. Antoine Laurent Lavoisier (1743–94), a French chemist, was the first to establish an experimentally useful definition of an element. He defined an element as a basic form of matter', 'He defined an element as a basic form of matter that cannot be broken down into simpler substances by chemical reactions. Elements can be normally divided into metals, non-metals and metalloids. Metals usually show some or all of the following properties: • They have a lustre (shine). • They have', '• They have a lustre (shine). • They have silvery-grey or golden-yellow colour. • They conduct heat and electricity. • They are ductile (can be drawn into wires). • They are malleable (can be hammered into thin sheets). • They are sonorous (make a ringing sound when hit). Examples of metals ar e', 'ringing sound when hit). Examples of metals ar e gold, silver , copper, iron, sodium, potassium etc. Mercury is the only metal that is liquid at room temperature. Non-metals usually show some or all of the following properties: • They display a variety of colours. • They are poor conductors of heat', 'of colours. • They are poor conductors of heat and electricity. • They are not lustrous, sonorous or malleable. Examples of non-metals are hydrogen, oxygen, iodine, carbon (coal, coke), bromine, Reprint 2025-26 SCIENCE20 chlorine etc. Some elements have intermediate properties between those of', 'have intermediate properties between those of metals and non- metals, they are  called metalloids; examples are boron, silicon, germanium, etc. More to  know 2.4.2 COMPOUNDS A compound is a substance composed of two or more elements, chemically combined with one another in a fixed proportion. What', 'with one another in a fixed proportion. What do we get when two or more elements are combined? Activity ______________ 2.4 • Divide the class into two groups. Give 5 g of iron filings and 3 g of sulphur powder in a china dish to both the groups. Group I • Mix and crush iron filings and sulphur', 'Group I • Mix and crush iron filings and sulphur powder . Group II • Mix and crush iron filings and sulphur powder . Heat this mixtur e strongly till red hot. Remove from flame and let the mixture cool. Groups I and II • Check for magnetism in the material obtained. Bring a magnet near the material', 'obtained. Bring a magnet near the material and check if the material is attracted towards the magnet. • Compare the texture and colour of the material obtained by the groups. • Add carbon disulphide to one part of the  material obtained. Stir well and filter. • Add dilute sulphuric acid or dilute', 'and filter. • Add dilute sulphuric acid or dilute hydrochloric acid to the other part of the material obtained. (Note: teacher supervision is necessary for this activity). • Perform all the above steps with both the elements (iron and sulphur) separately. Now answer • Did the material obtained by', 'Now answer • Did the material obtained by the two groups look the same? • Which group has obtained a material with magnetic properties? • Can we separate the components of the material obtained? • On adding dilute sulphuric acid or dilute hydrochloric acid, did both the groups obtain a gas? Did the', 'acid, did both the groups obtain a gas? Did the gas in both the cases smell the same or different? The gas obtained by Group I is hydrogen, it is colourless, odourless and combustible– it is not advised to do the combustion test for hydrogen in the class. The gas obtained by Group II is hydrogen', 'class. The gas obtained by Group II is hydrogen sulphide. It is a colourless gas with the smell of rotten eggs. You must have observed that the products obtained by both the groups show different properties, though the starting materials were the same. Group I has carried out the activity involving', 'Group I has carried out the activity involving a physical change whereas in case of Group II, a chemical change (a chemical reaction) has taken place. • The material obtained by group I is a mixture of the two substances. The substances given are the elements—iron and sulphur. • The properties of', 'elements—iron and sulphur. • The properties of the mixture are the same as that of its constituents. • The number of elements known at present are more than 100. Ninety-two elements are naturally occurring and the rest are man-made. • Majority of the elements are solid. • Eleven elements are in', 'the elements are solid. • Eleven elements are in gaseous state at room temperature. • Two elements are liquid at room temperature—mercury and bromine. • Elements, gallium and cesium become liquid at a temperature slightly above room temperature (303 K). Reprint 2025-26 IS MATTER AROUND US PURE? 21', 'K). Reprint 2025-26 IS MATTER AROUND US PURE? 21 • The material obtained by group II is a compound. • On heating the two elements strongly we get a compound, which has totally different properties compared to the combining elements. • The composition of a compound is the same throughout. We can', 'of a compound is the same throughout. We can also observe that the texture and the colour of the compound are the same throughout. Thus, we can summarise the physical and chemical nature of matter in the following graphical organiser: Table 2.2: Mixtures and Compounds Mixtures Compounds 1. Elements', 'and Compounds Mixtures Compounds 1. Elements or compounds just mix 1. Elements react to form new compounds. together to form a mixture and no new compound is formed. 2. A mixture has a variable composition. 2. The composition of each new substance is always fixed. 3, A mixture shows the properties', 'always fixed. 3, A mixture shows the properties of the 3. The new substance has totally different constituent substances. properties. 4. The constituents can be seperated 4. The constituents can be separated only fairly easily by physical methods. by chemical or electrochemical reactions. What you', 'chemical or electrochemical reactions. What you have learnt • A mixture contains more than one substance (element and/ or compound) mixed in any proportion. Reprint 2025-26 SCIENCE22 Exercises 1. Which separation techniques will you apply for the separation of the following? (a) Sodium chloride', 'separation of the following? (a) Sodium chloride from its solution in water (b) Ammonium chloride from a mixture containing sodium chloride and ammonium chloride (c) Small pieces of metal in the engine oil of a car (d) Different pigments from an extract of flower petals (e) Butter from curd (f) Oil', 'of flower petals (e) Butter from curd (f) Oil from water (g) Tea leaves from tea (h) Iron pins from sand (i) Wheat grains from husk (j) Fine mud particles suspended in water • Mixtures can be separated into pure substances using appropriate separation techniques. • A solution is a homogeneous', 'techniques. • A solution is a homogeneous mixture of two or more substances. The major component of a solution is called the solvent, and the minor , the solute. • The concentration of a solution is the amount of solute present per unit volume or per unit mass of the solution. • Materials that are', 'unit mass of the solution. • Materials that are insoluble in a solvent and have particles that are visible to naked eyes, form a suspension. A suspension is a heterogeneous mixture. • Colloids are heterogeneous mixtures in which the particle size is too small to be seen with the naked eye, but is', 'too small to be seen with the naked eye, but is big enough to scatter light. Colloids are useful in industry and daily life. The particles are called the dispersed phase and the medium in which they are distributed is called the dispersion medium. • Pure substances can be elements or compounds. An', 'Pure substances can be elements or compounds. An element is a form of matter that cannot be broken down by chemical reactions into simpler substances. A compound is a substance composed of two or more different types of elements, chemically combined in a fixed proportion. • Properties of a compound', 'in a fixed proportion. • Properties of a compound are different from its constituent elements, whereas a mixture shows the properties of its constituting elements or compounds. Reprint 2025-26 IS MATTER AROUND US PURE? 23 (a) What mass of potassium nitrate would be needed to produce a saturated', 'nitrate would be needed to produce a saturated solution of potassium nitrate in 50 grams of water at 313 K? (b) Pragya makes a saturated solution of potassium chloride in water at 353 K and leaves the solution to cool at room temperature. What would she observe as the solution cools? Explain. (c)', 'she observe as the solution cools? Explain. (c) Find the solubility of each salt at 293 K. Which salt has the highest solubility at this temperature? (d) What is the effect of change of temperature on the solubility of a salt? 4. Explain the following giving examples. (a) Saturated solution (b)', 'giving examples. (a) Saturated solution (b) Pure substance (c) Colloid (d) Suspension 5. Classify each of the following as a homogeneous or heterogeneous mixture. soda water, wood, air, soil, vinegar,  filtered tea. 6. How would you confirm that a colourless liquid given to you is pure water? 2.', 'colourless liquid given to you is pure water? 2. Write the steps you would use for making tea. Use the wor ds solution, solvent, solute, dissolve, soluble, insoluble, filtrate and residue. 3. Pragya tested the solubility of three different substances at different temperatures and collected the data', 'at different temperatures and collected the data as given below (results are given in the following table, as grams of substance dissolved in 100 grams of water to form a saturated solution). Substance Dissolved         Temperature in K 283 293 313 333 353', '313 333 353                                       Solubility Potassium nitrate 21 32 62 106 167 Sodium chloride 36 36 36 37 37 Potassium chloride 35 35 40 46 54 Ammonium chloride 24 37 41 55 66 Reprint 2025-26 SCIENCE24 7. Which of the following materials fall in the category of a “pure substance”?', 'fall in the category of a “pure substance”? (a) Ice (b) Milk (c) Iron (d) Hydrochloric acid (e) Calcium oxide (f) Mercury (g) Brick (h) Wood (i) Air 8. Identify the solutions among the following mixtures. (a) Soil (b) Sea water (c) Air (d) Coal (e) Soda water 9. Which of the following will show', 'Soda water 9. Which of the following will show “Tyndall effect”? (a) Salt solution (b) Milk (c) Copper sulphate solution (d) Starch solution 10. Classify the following into elements, compounds and mixtures. (a) Sodium (b) Soil (c) Sugar solution (d) Silver (e) Calcium carbonate (f) Tin (g) Silicon', 'Silver (e) Calcium carbonate (f) Tin (g) Silicon (h) Coal (i) Air (j) Soap (k) Methane (l) Carbon dioxide (m) Blood 11. Which of the following are chemical changes? (a) Growth of a plant (b) Rusting of iron Reprint 2025-26 IS MATTER AROUND US PURE? 25 2525 2525 (c) Mixing of iron filings and sand', '25 2525 2525 (c) Mixing of iron filings and sand (d) Cooking of food (e) Digestion of food (f) Freezing of water (g) Burning of a candle Group Activity Take an earthen pot ( matka), some pebbles and sand. Design a small-scale filtration plant that you could use to clean muddy water. Reprint 2025-26', 'could use to clean muddy water. Reprint 2025-26']\n"
     ]
    }
   ],
   "source": [
    "def chunk_text(text, chunk_size=300, chunk_overlap=50):\n",
    "    splitter = RecursiveCharacterTextSplitter(\n",
    "        chunk_size=chunk_size,      \n",
    "        chunk_overlap=chunk_overlap,\n",
    "        add_start_index=True,\n",
    "        length_function=len,\n",
    "        separators=[\"\\n\\n\", \"\\n\", \" \", \"\"]\n",
    "    )\n",
    "    chunks = splitter.split_text(text.replace(\"\\n\", \" \"))\n",
    "    return chunks\n",
    "txt_after_chunk_array = chunk_text(extracted_txt_content)\n",
    "\n",
    "# Uncomment this line to print output of Chunked Text\n",
    "print(len(txt_after_chunk_array))\n",
    "print(txt_after_chunk_array)"
   ]
  },
  {
   "cell_type": "markdown",
   "id": "3d55be74",
   "metadata": {},
   "source": [
    "Embedding the Chunks With Gemini-Embedding-Model"
   ]
  },
  {
   "cell_type": "code",
   "execution_count": null,
   "id": "2a5b9c9c",
   "metadata": {},
   "outputs": [],
   "source": [
    "embedding_dim = 768 # increase the dimension to increase the quality\n",
    "\n",
    "embeddings = []\n",
    "for chunk in txt_after_chunk_array:\n",
    "    response = client.models.embed_content( \n",
    "        model=\"gemini-embedding-001\",\n",
    "        contents=[types.Part.from_text(text=chunk)],\n",
    "        config=types.EmbedContentConfig(\n",
    "            task_type=\"RETRIEVAL_DOCUMENT\",\n",
    "            output_dimensionality=embedding_dim\n",
    "        ),\n",
    "    )\n",
    "    embeddings.append(response)\n",
    "\n",
    "# processed_embeddings contains the floating number(VECTORS)\n",
    "processed_embeddings = [\n",
    "    e.embeddings[0].values for e in embeddings\n",
    "]\n",
    "print(processed_embeddings)"
   ]
  },
  {
   "cell_type": "markdown",
   "id": "221d9b3f",
   "metadata": {},
   "source": [
    "Create ChromaDB Collection"
   ]
  },
  {
   "cell_type": "code",
   "execution_count": null,
   "id": "8c960302",
   "metadata": {},
   "outputs": [],
   "source": [
    "chroma_client = chromadb.PersistentClient(path=\"./chroma_data\")\n",
    "\n",
    "collection = chroma_client.get_or_create_collection(\n",
    "    name=\"TestTryCollection\",\n",
    "    metadata={\"source\": \"ARJ's\"}\n",
    ")"
   ]
  },
  {
   "cell_type": "markdown",
   "id": "15323007",
   "metadata": {},
   "source": [
    "Insert data into ChromaDB"
   ]
  },
  {
   "cell_type": "code",
   "execution_count": null,
   "id": "5ae8cd18",
   "metadata": {},
   "outputs": [],
   "source": [
    "ids = [f\"{file_Name}_chunk_{i}\" for i in range(len(txt_after_chunk_array))]\n",
    "print(len(txt_after_chunk_array))\n",
    "\n",
    "collection.upsert(\n",
    "    ids=ids,\n",
    "    documents=txt_after_chunk_array,\n",
    "    embeddings=processed_embeddings,\n",
    "    metadatas=[{\"chunk_index\": i, \"Source\": file_Name} for i in range(len(txt_after_chunk_array))]\n",
    ")"
   ]
  },
  {
   "cell_type": "markdown",
   "id": "4c320aca",
   "metadata": {},
   "source": [
    "Embed User query/promt with Gemini"
   ]
  },
  {
   "cell_type": "code",
   "execution_count": null,
   "id": "d5293137",
   "metadata": {},
   "outputs": [],
   "source": [
    "query_text = \"Sigma boy?\"\n",
    "# formula of force?\n",
    "# What is  Tyndall Effect and how can it be observed?\n",
    "# Antoine  Laurent Lavoisier born in? ====> 1943\n",
    "# In physics what is written in section 9.1.1?\n",
    "length_of_query = len(query_text.strip())\n",
    "if length_of_query == 0:\n",
    "    print(\"Query is Empty\")\n",
    "else:  \n",
    "    try:\n",
    "        query_response = client.models.embed_content(\n",
    "            model=\"gemini-embedding-001\",\n",
    "            contents=[types.Part.from_text(text=query_text)],\n",
    "            config=types.EmbedContentConfig(\n",
    "                task_type=\"RETRIEVAL_QUERY\",\n",
    "                output_dimensionality=768\n",
    "            ),\n",
    "        )\n",
    "    except ClientError as e:\n",
    "            print(f\"An error occurred while embedding the query: {e.message}\")\n",
    "\n",
    "# embedded_query contaids float value (VECTOR)\n",
    "if query_response.embeddings is not None:\n",
    "    embedded_query = query_response.embeddings[0].values\n",
    "    print(embedded_query)\n",
    "else:\n",
    "    print(\"I think Embedded_Query is empty\")"
   ]
  },
  {
   "cell_type": "markdown",
   "id": "b4afc78a",
   "metadata": {},
   "source": [
    "Getting result from chromaDB"
   ]
  },
  {
   "cell_type": "code",
   "execution_count": null,
   "id": "69e29e76",
   "metadata": {},
   "outputs": [],
   "source": [
    "if query_response.embeddings is not None and len(query_response.embeddings) > 0:\n",
    "    \n",
    "    results = collection.query(\n",
    "        query_embeddings=[embedded_query],\n",
    "        n_results=5\n",
    "    )\n",
    "    print(\"Query results:\", results[\"documents\"])\n",
    "\n",
    "else:\n",
    "    print(\"Failed to generate query embedding\")\n",
    "    print(\"Response:\", query_response)"
   ]
  },
  {
   "cell_type": "markdown",
   "id": "a1dc2938",
   "metadata": {},
   "source": [
    "Getting response from Gemini"
   ]
  },
  {
   "cell_type": "code",
   "execution_count": null,
   "id": "8938daf3",
   "metadata": {},
   "outputs": [],
   "source": [
    "try:\n",
    "    response = client.models.generate_content(\n",
    "        model=\"gemini-2.5-flash-lite\",\n",
    "        contents=[f\"This is my question:{query_text} tell me from this context: {results['documents']}. Remember to lastly mention only Source from {results['metadatas']}\"]\n",
    "    )\n",
    "    print(response.text)\n",
    "except Exception as e:\n",
    "    if hasattr(e, \"message\") and \"model is overloaded\" in str(e.message):\n",
    "        print(f\"The model is overloaded. Please try again later.\\n actual error : {e}\")\n",
    "    elif \"model is overloaded\" in str(e):\n",
    "        print(f\"The model is overloaded. Please try again later.\\n actual error : {e}\")\n",
    "    else:\n",
    "        print(f\"An error occurred: {e}\")"
   ]
  }
 ],
 "metadata": {
  "kernelspec": {
   "display_name": "Python 3",
   "language": "python",
   "name": "python3"
  },
  "language_info": {
   "codemirror_mode": {
    "name": "ipython",
    "version": 3
   },
   "file_extension": ".py",
   "mimetype": "text/x-python",
   "name": "python",
   "nbconvert_exporter": "python",
   "pygments_lexer": "ipython3",
   "version": "3.13.7"
  }
 },
 "nbformat": 4,
 "nbformat_minor": 5
}
